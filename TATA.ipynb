{
 "cells": [
  {
   "cell_type": "code",
   "execution_count": 62,
   "id": "027dbf2a",
   "metadata": {},
   "outputs": [],
   "source": [
    "import pandas as pd\n",
    "import numpy as np\n",
    "import nltk\n",
    "import warnings\n",
    "warnings.filterwarnings('ignore')\n",
    "import matplotlib.pyplot as plt"
   ]
  },
  {
   "cell_type": "code",
   "execution_count": 2,
   "id": "51472b13",
   "metadata": {
    "scrolled": true
   },
   "outputs": [
    {
     "data": {
      "text/html": [
       "<div>\n",
       "<style scoped>\n",
       "    .dataframe tbody tr th:only-of-type {\n",
       "        vertical-align: middle;\n",
       "    }\n",
       "\n",
       "    .dataframe tbody tr th {\n",
       "        vertical-align: top;\n",
       "    }\n",
       "\n",
       "    .dataframe thead th {\n",
       "        text-align: right;\n",
       "    }\n",
       "</style>\n",
       "<table border=\"1\" class=\"dataframe\">\n",
       "  <thead>\n",
       "    <tr style=\"text-align: right;\">\n",
       "      <th></th>\n",
       "      <th>Unnamed: 0</th>\n",
       "      <th>Sl.No</th>\n",
       "      <th>RefNumber</th>\n",
       "      <th>Name</th>\n",
       "      <th>Subject</th>\n",
       "      <th>Priority</th>\n",
       "      <th>AssaignedName</th>\n",
       "      <th>EntryDate</th>\n",
       "      <th>eng_exit_date</th>\n",
       "      <th>restotal</th>\n",
       "      <th>...</th>\n",
       "      <th>Total</th>\n",
       "      <th>AssignDate</th>\n",
       "      <th>COMPLAINT CATEGORY</th>\n",
       "      <th>COMPLAINT REQUEST CATEGORY</th>\n",
       "      <th>COMPLAINT REQUEST TYPE</th>\n",
       "      <th>COMPLAINT DETAILS</th>\n",
       "      <th>CUSTOMER IMPACT</th>\n",
       "      <th>Message</th>\n",
       "      <th>Solution</th>\n",
       "      <th>Ratings</th>\n",
       "    </tr>\n",
       "  </thead>\n",
       "  <tbody>\n",
       "    <tr>\n",
       "      <th>0</th>\n",
       "      <td>0</td>\n",
       "      <td>37</td>\n",
       "      <td>25152</td>\n",
       "      <td>Shashanka P</td>\n",
       "      <td>Not able to receive the files through Pinmaile...</td>\n",
       "      <td>Low</td>\n",
       "      <td>Jackson Dale Bangera</td>\n",
       "      <td>2020-07-01 15:18:40.223</td>\n",
       "      <td>2020-07-02 17:43:32.403</td>\n",
       "      <td>1 Days 2 hrs 25 mins</td>\n",
       "      <td>...</td>\n",
       "      <td>3 Days 2 hrs 26 mins</td>\n",
       "      <td>2020-07-01 15:34:30.497</td>\n",
       "      <td>IT</td>\n",
       "      <td>Incident</td>\n",
       "      <td>Network Issues</td>\n",
       "      <td>Share folder issues</td>\n",
       "      <td>no</td>\n",
       "      <td>Not able to receive the files through Pinmaile...</td>\n",
       "      <td>Please follow below steps.\\n1. Download SSHLic...</td>\n",
       "      <td>NaN</td>\n",
       "    </tr>\n",
       "    <tr>\n",
       "      <th>1</th>\n",
       "      <td>1</td>\n",
       "      <td>58</td>\n",
       "      <td>25175</td>\n",
       "      <td>Umesha</td>\n",
       "      <td>FTP setup in mac system</td>\n",
       "      <td>Low</td>\n",
       "      <td>Poornesh Kumar</td>\n",
       "      <td>2020-07-02 14:49:29.920</td>\n",
       "      <td>2020-07-02 15:16:43.657</td>\n",
       "      <td>0 Days 1 hrs 27 mins</td>\n",
       "      <td>...</td>\n",
       "      <td>2 Days 1 hrs 27 mins</td>\n",
       "      <td>2020-07-02 14:51:33.307</td>\n",
       "      <td>IT</td>\n",
       "      <td>Incident</td>\n",
       "      <td>Others</td>\n",
       "      <td>Others</td>\n",
       "      <td>no</td>\n",
       "      <td>FTP setup in mac system.</td>\n",
       "      <td>From the Apple menu, select System Preferences...</td>\n",
       "      <td>NaN</td>\n",
       "    </tr>\n",
       "    <tr>\n",
       "      <th>2</th>\n",
       "      <td>2</td>\n",
       "      <td>81</td>\n",
       "      <td>25199</td>\n",
       "      <td>Shashanka P</td>\n",
       "      <td>Data not received through SFTP</td>\n",
       "      <td>High</td>\n",
       "      <td>Jeevandas</td>\n",
       "      <td>2020-07-03 10:40:24.793</td>\n",
       "      <td>2020-07-03 12:03:10.467</td>\n",
       "      <td>0 Days 2 hrs 23 mins</td>\n",
       "      <td>...</td>\n",
       "      <td>2 Days 2 hrs 23 mins</td>\n",
       "      <td>2020-07-03 10:49:35.453</td>\n",
       "      <td>IT</td>\n",
       "      <td>Incident</td>\n",
       "      <td>Network Issues</td>\n",
       "      <td>Network Connection Issue</td>\n",
       "      <td>no</td>\n",
       "      <td>Dear Sir,    Data not received through SFTP at...</td>\n",
       "      <td>Please follow below steps.\\n1. Download SSHLic...</td>\n",
       "      <td>NaN</td>\n",
       "    </tr>\n",
       "    <tr>\n",
       "      <th>3</th>\n",
       "      <td>3</td>\n",
       "      <td>224</td>\n",
       "      <td>25374</td>\n",
       "      <td>Reshma Bhat</td>\n",
       "      <td>Sftp Client installation</td>\n",
       "      <td>Medium</td>\n",
       "      <td>Sowmya P</td>\n",
       "      <td>2020-07-10 11:36:51.890</td>\n",
       "      <td>2020-07-10 14:45:04.467</td>\n",
       "      <td>0 Days 3 hrs 9 mins</td>\n",
       "      <td>...</td>\n",
       "      <td>1 Days 4 hrs 42 mins</td>\n",
       "      <td>2020-07-10 11:38:38.903</td>\n",
       "      <td>IT</td>\n",
       "      <td>Service</td>\n",
       "      <td>Site access</td>\n",
       "      <td>NaN</td>\n",
       "      <td>no</td>\n",
       "      <td>Need to install SFTP client to access MCT Prep...</td>\n",
       "      <td>Follow the link given https://www.webservertal...</td>\n",
       "      <td>4.0</td>\n",
       "    </tr>\n",
       "    <tr>\n",
       "      <th>4</th>\n",
       "      <td>4</td>\n",
       "      <td>593</td>\n",
       "      <td>25904</td>\n",
       "      <td>Reshma Bhat</td>\n",
       "      <td>Require Dataprep SFTP and Bluedart site</td>\n",
       "      <td>Medium</td>\n",
       "      <td>Sudarshan Mallya</td>\n",
       "      <td>2020-07-29 14:08:58.907</td>\n",
       "      <td>2020-07-30 12:24:53.467</td>\n",
       "      <td>1 Days 22 hrs 16 mins</td>\n",
       "      <td>...</td>\n",
       "      <td>1 Days 22 hrs 17 mins</td>\n",
       "      <td>2020-07-29 14:09:12.693</td>\n",
       "      <td>IT</td>\n",
       "      <td>Service</td>\n",
       "      <td>Site access</td>\n",
       "      <td>NaN</td>\n",
       "      <td>no</td>\n",
       "      <td>Blue dart Site is not accessing.  Require Data...</td>\n",
       "      <td>You can create a SFTP connection through the T...</td>\n",
       "      <td>5.0</td>\n",
       "    </tr>\n",
       "  </tbody>\n",
       "</table>\n",
       "<p>5 rows × 27 columns</p>\n",
       "</div>"
      ],
      "text/plain": [
       "   Unnamed: 0  Sl.No  RefNumber         Name  \\\n",
       "0           0     37      25152  Shashanka P   \n",
       "1           1     58      25175       Umesha   \n",
       "2           2     81      25199  Shashanka P   \n",
       "3           3    224      25374  Reshma Bhat   \n",
       "4           4    593      25904  Reshma Bhat   \n",
       "\n",
       "                                             Subject Priority  \\\n",
       "0  Not able to receive the files through Pinmaile...      Low   \n",
       "1                            FTP setup in mac system      Low   \n",
       "2                     Data not received through SFTP     High   \n",
       "3                           Sftp Client installation   Medium   \n",
       "4            Require Dataprep SFTP and Bluedart site   Medium   \n",
       "\n",
       "          AssaignedName                EntryDate            eng_exit_date  \\\n",
       "0  Jackson Dale Bangera  2020-07-01 15:18:40.223  2020-07-02 17:43:32.403   \n",
       "1        Poornesh Kumar  2020-07-02 14:49:29.920  2020-07-02 15:16:43.657   \n",
       "2            Jeevandas   2020-07-03 10:40:24.793  2020-07-03 12:03:10.467   \n",
       "3              Sowmya P  2020-07-10 11:36:51.890  2020-07-10 14:45:04.467   \n",
       "4      Sudarshan Mallya  2020-07-29 14:08:58.907  2020-07-30 12:24:53.467   \n",
       "\n",
       "                 restotal  ...                   Total  \\\n",
       "0   1 Days 2 hrs 25 mins   ...   3 Days 2 hrs 26 mins    \n",
       "1   0 Days 1 hrs 27 mins   ...   2 Days 1 hrs 27 mins    \n",
       "2   0 Days 2 hrs 23 mins   ...   2 Days 2 hrs 23 mins    \n",
       "3    0 Days 3 hrs 9 mins   ...   1 Days 4 hrs 42 mins    \n",
       "4  1 Days 22 hrs 16 mins   ...  1 Days 22 hrs 17 mins    \n",
       "\n",
       "                AssignDate COMPLAINT CATEGORY COMPLAINT REQUEST CATEGORY  \\\n",
       "0  2020-07-01 15:34:30.497                 IT                   Incident   \n",
       "1  2020-07-02 14:51:33.307                 IT                   Incident   \n",
       "2  2020-07-03 10:49:35.453                 IT                   Incident   \n",
       "3  2020-07-10 11:38:38.903                 IT                    Service   \n",
       "4  2020-07-29 14:09:12.693                 IT                    Service   \n",
       "\n",
       "  COMPLAINT REQUEST TYPE         COMPLAINT DETAILS CUSTOMER IMPACT  \\\n",
       "0         Network Issues       Share folder issues              no   \n",
       "1                 Others                    Others              no   \n",
       "2         Network Issues  Network Connection Issue              no   \n",
       "3            Site access                       NaN              no   \n",
       "4            Site access                       NaN              no   \n",
       "\n",
       "                                             Message  \\\n",
       "0  Not able to receive the files through Pinmaile...   \n",
       "1                           FTP setup in mac system.   \n",
       "2  Dear Sir,    Data not received through SFTP at...   \n",
       "3  Need to install SFTP client to access MCT Prep...   \n",
       "4  Blue dart Site is not accessing.  Require Data...   \n",
       "\n",
       "                                            Solution Ratings  \n",
       "0  Please follow below steps.\\n1. Download SSHLic...     NaN  \n",
       "1  From the Apple menu, select System Preferences...     NaN  \n",
       "2  Please follow below steps.\\n1. Download SSHLic...     NaN  \n",
       "3  Follow the link given https://www.webservertal...     4.0  \n",
       "4  You can create a SFTP connection through the T...     5.0  \n",
       "\n",
       "[5 rows x 27 columns]"
      ]
     },
     "execution_count": 2,
     "metadata": {},
     "output_type": "execute_result"
    }
   ],
   "source": [
    "df=pd.read_excel('df_withoutdup_final_origi.xlsx')\n",
    "df.head()"
   ]
  },
  {
   "cell_type": "code",
   "execution_count": 3,
   "id": "e65ffaea",
   "metadata": {},
   "outputs": [
    {
     "data": {
      "text/html": [
       "<div>\n",
       "<style scoped>\n",
       "    .dataframe tbody tr th:only-of-type {\n",
       "        vertical-align: middle;\n",
       "    }\n",
       "\n",
       "    .dataframe tbody tr th {\n",
       "        vertical-align: top;\n",
       "    }\n",
       "\n",
       "    .dataframe thead th {\n",
       "        text-align: right;\n",
       "    }\n",
       "</style>\n",
       "<table border=\"1\" class=\"dataframe\">\n",
       "  <thead>\n",
       "    <tr style=\"text-align: right;\">\n",
       "      <th></th>\n",
       "      <th>Subject</th>\n",
       "      <th>Priority</th>\n",
       "    </tr>\n",
       "  </thead>\n",
       "  <tbody>\n",
       "    <tr>\n",
       "      <th>0</th>\n",
       "      <td>Not able to receive the files through Pinmaile...</td>\n",
       "      <td>Low</td>\n",
       "    </tr>\n",
       "    <tr>\n",
       "      <th>1</th>\n",
       "      <td>FTP setup in mac system</td>\n",
       "      <td>Low</td>\n",
       "    </tr>\n",
       "    <tr>\n",
       "      <th>2</th>\n",
       "      <td>Data not received through SFTP</td>\n",
       "      <td>High</td>\n",
       "    </tr>\n",
       "    <tr>\n",
       "      <th>3</th>\n",
       "      <td>Sftp Client installation</td>\n",
       "      <td>Medium</td>\n",
       "    </tr>\n",
       "    <tr>\n",
       "      <th>4</th>\n",
       "      <td>Require Dataprep SFTP and Bluedart site</td>\n",
       "      <td>Medium</td>\n",
       "    </tr>\n",
       "  </tbody>\n",
       "</table>\n",
       "</div>"
      ],
      "text/plain": [
       "                                             Subject Priority\n",
       "0  Not able to receive the files through Pinmaile...      Low\n",
       "1                            FTP setup in mac system      Low\n",
       "2                     Data not received through SFTP     High\n",
       "3                           Sftp Client installation   Medium\n",
       "4            Require Dataprep SFTP and Bluedart site   Medium"
      ]
     },
     "execution_count": 3,
     "metadata": {},
     "output_type": "execute_result"
    }
   ],
   "source": [
    "df=df[['Subject','Priority']]\n",
    "df.head()"
   ]
  },
  {
   "cell_type": "code",
   "execution_count": 4,
   "id": "7aa2fbb4",
   "metadata": {},
   "outputs": [],
   "source": [
    "import string\n",
    "import re\n",
    "from nltk.stem import WordNetLemmatizer\n",
    "from string import punctuation\n",
    "from nltk.corpus import stopwords"
   ]
  },
  {
   "cell_type": "code",
   "execution_count": 5,
   "id": "2f18aa4c",
   "metadata": {},
   "outputs": [],
   "source": [
    "def sent_tokens_func(text):\n",
    "  return nltk.sent_tokenize(text)\n",
    "\n",
    "def word_tokens_func(text):\n",
    "  return nltk.word_tokenize(text)  \n",
    "\n",
    "def to_lower(text):\n",
    "  if not isinstance(text,str):\n",
    "    text = str(text)\n",
    "  return text.lower()\n",
    "\n",
    "def number_omit_func(text):\n",
    "  output = ''.join(c for c in text if not c.isdigit())\n",
    "  return output\n",
    "\n",
    "def remove_punctuation(text):\n",
    "  return ''.join(c for c in text if c not in punctuation) \n",
    "\n",
    "def stopword_remove_func(sentence):\n",
    "  stop_words = stopwords.words('english')\n",
    "  return ' '.join([w for w in nltk.word_tokenize(sentence) if not w in stop_words])\n",
    "\n",
    "def lemmatize(text):\n",
    "          wordnet_lemmatizer = WordNetLemmatizer()\n",
    "          lemmatized_word = [wordnet_lemmatizer.lemmatize(word)for word in nltk.word_tokenize(text)]\n",
    "          return \" \".join(lemmatized_word)\n",
    "\n",
    "def preprocess(text):\n",
    "        lower_text = to_lower(text)\n",
    "        sentence_tokens = sent_tokens_func(lower_text)\n",
    "        word_list = []\n",
    "        for each_sent in sentence_tokens:\n",
    "            lemmatizzed_sent = lemmatize(each_sent)\n",
    "            clean_text = number_omit_func(lemmatizzed_sent)\n",
    "            clean_text = remove_punctuation(clean_text)\n",
    "            clean_text = stopword_remove_func(clean_text)\n",
    "            word_tokens = word_tokens_func(clean_text)\n",
    "            for i in word_tokens:\n",
    "                word_list.append(i)\n",
    "        return \" \".join(word_list)"
   ]
  },
  {
   "cell_type": "code",
   "execution_count": 6,
   "id": "17f6e77d",
   "metadata": {},
   "outputs": [
    {
     "data": {
      "text/plain": [
       "Subject     0\n",
       "Priority    0\n",
       "dtype: int64"
      ]
     },
     "execution_count": 6,
     "metadata": {},
     "output_type": "execute_result"
    }
   ],
   "source": [
    "df.isnull().sum()"
   ]
  },
  {
   "cell_type": "code",
   "execution_count": 8,
   "id": "7525559c",
   "metadata": {},
   "outputs": [],
   "source": [
    "df['Subject']=df['Subject'].apply(preprocess)"
   ]
  },
  {
   "cell_type": "code",
   "execution_count": 9,
   "id": "30baaf4d",
   "metadata": {},
   "outputs": [
    {
     "data": {
      "text/html": [
       "<div>\n",
       "<style scoped>\n",
       "    .dataframe tbody tr th:only-of-type {\n",
       "        vertical-align: middle;\n",
       "    }\n",
       "\n",
       "    .dataframe tbody tr th {\n",
       "        vertical-align: top;\n",
       "    }\n",
       "\n",
       "    .dataframe thead th {\n",
       "        text-align: right;\n",
       "    }\n",
       "</style>\n",
       "<table border=\"1\" class=\"dataframe\">\n",
       "  <thead>\n",
       "    <tr style=\"text-align: right;\">\n",
       "      <th></th>\n",
       "      <th>Subject</th>\n",
       "      <th>Priority</th>\n",
       "    </tr>\n",
       "  </thead>\n",
       "  <tbody>\n",
       "    <tr>\n",
       "      <th>0</th>\n",
       "      <td>able receive file pinmailer sftp</td>\n",
       "      <td>Low</td>\n",
       "    </tr>\n",
       "    <tr>\n",
       "      <th>1</th>\n",
       "      <td>ftp setup mac system</td>\n",
       "      <td>Low</td>\n",
       "    </tr>\n",
       "    <tr>\n",
       "      <th>2</th>\n",
       "      <td>data received sftp</td>\n",
       "      <td>High</td>\n",
       "    </tr>\n",
       "    <tr>\n",
       "      <th>3</th>\n",
       "      <td>sftp client installation</td>\n",
       "      <td>Medium</td>\n",
       "    </tr>\n",
       "    <tr>\n",
       "      <th>4</th>\n",
       "      <td>require dataprep sftp bluedart site</td>\n",
       "      <td>Medium</td>\n",
       "    </tr>\n",
       "    <tr>\n",
       "      <th>5</th>\n",
       "      <td>ftp connecting</td>\n",
       "      <td>Low</td>\n",
       "    </tr>\n",
       "    <tr>\n",
       "      <th>6</th>\n",
       "      <td>setup ftp</td>\n",
       "      <td>Low</td>\n",
       "    </tr>\n",
       "    <tr>\n",
       "      <th>7</th>\n",
       "      <td>ftp server issue</td>\n",
       "      <td>High</td>\n",
       "    </tr>\n",
       "    <tr>\n",
       "      <th>8</th>\n",
       "      <td>connecting new client ftp</td>\n",
       "      <td>Low</td>\n",
       "    </tr>\n",
       "    <tr>\n",
       "      <th>9</th>\n",
       "      <td>ftp program</td>\n",
       "      <td>Low</td>\n",
       "    </tr>\n",
       "  </tbody>\n",
       "</table>\n",
       "</div>"
      ],
      "text/plain": [
       "                               Subject Priority\n",
       "0     able receive file pinmailer sftp      Low\n",
       "1                 ftp setup mac system      Low\n",
       "2                   data received sftp     High\n",
       "3             sftp client installation   Medium\n",
       "4  require dataprep sftp bluedart site   Medium\n",
       "5                       ftp connecting      Low\n",
       "6                            setup ftp      Low\n",
       "7                     ftp server issue     High\n",
       "8            connecting new client ftp      Low\n",
       "9                          ftp program      Low"
      ]
     },
     "execution_count": 9,
     "metadata": {},
     "output_type": "execute_result"
    }
   ],
   "source": [
    "df.head(10)"
   ]
  },
  {
   "cell_type": "code",
   "execution_count": 10,
   "id": "7592a986",
   "metadata": {},
   "outputs": [],
   "source": [
    "import sklearn\n",
    "from sklearn.preprocessing import LabelEncoder\n",
    "from sklearn.model_selection import train_test_split\n",
    "le=LabelEncoder()"
   ]
  },
  {
   "cell_type": "code",
   "execution_count": 75,
   "id": "c8d2bc89",
   "metadata": {},
   "outputs": [
    {
     "data": {
      "image/png": "[encoded data removed]",
      "text/plain": [
       "<Figure size 640x480 with 1 Axes>"
      ]
     },
     "metadata": {},
     "output_type": "display_data"
    }
   ],
   "source": [
    "df['Priority'].value_counts().plot(kind='bar')\n",
    "plt.ylabel('Count')\n",
    "plt.xlabel('Cat')\n",
    "plt.legend(['Cat','Count'])\n",
    "plt.show()"
   ]
  },
  {
   "cell_type": "code",
   "execution_count": 12,
   "id": "703c6029",
   "metadata": {},
   "outputs": [
    {
     "name": "stdout",
     "output_type": "stream",
     "text": [
      "                                                Subject  Priority\n",
      "2                                    data received sftp      High\n",
      "3                              sftp client installation    Medium\n",
      "4                   require dataprep sftp bluedart site    Medium\n",
      "7                                      ftp server issue      High\n",
      "29       live site code file access winscp giving error    Medium\n",
      "...                                                 ...       ...\n",
      "8035               system hanging slow system gradation       Low\n",
      "8036  wfh laptop slow processing hanging multitaskin...       Low\n",
      "8037                    unit vault pc slow getting hang       Low\n",
      "8038                           system hanging able work  Critical\n",
      "8039           laptop hang frequently interrupt working      High\n",
      "\n",
      "[2540 rows x 2 columns]\n"
     ]
    }
   ],
   "source": [
    "condition = df['Priority'] == 'Low'\n",
    "num_rows_to_drop = 5500\n",
    "rows_to_drop = df[condition].head(num_rows_to_drop).index\n",
    "\n",
    "df_dropped = df.drop(rows_to_drop)\n",
    "\n",
    "# Check the resulting DataFrame\n",
    "print(df_dropped)"
   ]
  },
  {
   "cell_type": "code",
   "execution_count": 14,
   "id": "38721821",
   "metadata": {},
   "outputs": [
    {
     "data": {
      "text/plain": [
       "High        827\n",
       "Medium      812\n",
       "Low         788\n",
       "Critical    113\n",
       "Name: Priority, dtype: int64"
      ]
     },
     "execution_count": 14,
     "metadata": {},
     "output_type": "execute_result"
    }
   ],
   "source": [
    "df_dropped['Priority'].value_counts()"
   ]
  },
  {
   "cell_type": "code",
   "execution_count": 63,
   "id": "3c114e40",
   "metadata": {},
   "outputs": [
    {
     "data": {
      "text/plain": [
       "Text(0.5, 1.0, 'Value Counts of Categories')"
      ]
     },
     "execution_count": 63,
     "metadata": {},
     "output_type": "execute_result"
    },
    {
     "data": {
      "image/png": "[encoded data removed]",
      "text/plain": [
       "<Figure size 640x480 with 1 Axes>"
      ]
     },
     "metadata": {},
     "output_type": "display_data"
    }
   ],
   "source": [
    "df_dropped['Priority'].value_counts().plot(kind='bar')\n",
    "\n",
    "# Set labels and title\n",
    "plt.xlabel('Category')\n",
    "plt.ylabel('Count')\n",
    "plt.title('Value Counts of Categories')\n"
   ]
  },
  {
   "cell_type": "code",
   "execution_count": 15,
   "id": "2f966894",
   "metadata": {},
   "outputs": [
    {
     "data": {
      "text/plain": [
       "array([1, 3, 3, ..., 2, 0, 1])"
      ]
     },
     "execution_count": 15,
     "metadata": {},
     "output_type": "execute_result"
    }
   ],
   "source": [
    "y=le.fit_transform(df_dropped['Priority'])\n",
    "y"
   ]
  },
  {
   "cell_type": "code",
   "execution_count": 19,
   "id": "c86da529",
   "metadata": {},
   "outputs": [
    {
     "data": {
      "text/plain": [
       "['Subject', 'Priority']"
      ]
     },
     "execution_count": 19,
     "metadata": {},
     "output_type": "execute_result"
    }
   ],
   "source": [
    "catcols=[i for i in df.columns if df.dtypes[i]=='O']\n",
    "catcols"
   ]
  },
  {
   "cell_type": "code",
   "execution_count": 16,
   "id": "3d74091e",
   "metadata": {},
   "outputs": [],
   "source": [
    "df_dropped['Priority']=le.fit_transform(df_dropped['Priority'])"
   ]
  },
  {
   "cell_type": "code",
   "execution_count": 18,
   "id": "d3ffff6c",
   "metadata": {},
   "outputs": [
    {
     "data": {
      "text/html": [
       "<div>\n",
       "<style scoped>\n",
       "    .dataframe tbody tr th:only-of-type {\n",
       "        vertical-align: middle;\n",
       "    }\n",
       "\n",
       "    .dataframe tbody tr th {\n",
       "        vertical-align: top;\n",
       "    }\n",
       "\n",
       "    .dataframe thead th {\n",
       "        text-align: right;\n",
       "    }\n",
       "</style>\n",
       "<table border=\"1\" class=\"dataframe\">\n",
       "  <thead>\n",
       "    <tr style=\"text-align: right;\">\n",
       "      <th></th>\n",
       "      <th>Subject</th>\n",
       "      <th>Priority</th>\n",
       "    </tr>\n",
       "  </thead>\n",
       "  <tbody>\n",
       "    <tr>\n",
       "      <th>2</th>\n",
       "      <td>data received sftp</td>\n",
       "      <td>1</td>\n",
       "    </tr>\n",
       "    <tr>\n",
       "      <th>3</th>\n",
       "      <td>sftp client installation</td>\n",
       "      <td>3</td>\n",
       "    </tr>\n",
       "    <tr>\n",
       "      <th>4</th>\n",
       "      <td>require dataprep sftp bluedart site</td>\n",
       "      <td>3</td>\n",
       "    </tr>\n",
       "    <tr>\n",
       "      <th>7</th>\n",
       "      <td>ftp server issue</td>\n",
       "      <td>1</td>\n",
       "    </tr>\n",
       "    <tr>\n",
       "      <th>29</th>\n",
       "      <td>live site code file access winscp giving error</td>\n",
       "      <td>3</td>\n",
       "    </tr>\n",
       "    <tr>\n",
       "      <th>36</th>\n",
       "      <td>hello – currently experiencing issue attemptin...</td>\n",
       "      <td>1</td>\n",
       "    </tr>\n",
       "    <tr>\n",
       "      <th>38</th>\n",
       "      <td>client ftp connecting</td>\n",
       "      <td>1</td>\n",
       "    </tr>\n",
       "    <tr>\n",
       "      <th>39</th>\n",
       "      <td>bank data received sftp</td>\n",
       "      <td>1</td>\n",
       "    </tr>\n",
       "    <tr>\n",
       "      <th>45</th>\n",
       "      <td>cyberduck ftp connecting</td>\n",
       "      <td>1</td>\n",
       "    </tr>\n",
       "    <tr>\n",
       "      <th>49</th>\n",
       "      <td>mad ftp conneted</td>\n",
       "      <td>1</td>\n",
       "    </tr>\n",
       "  </tbody>\n",
       "</table>\n",
       "</div>"
      ],
      "text/plain": [
       "                                              Subject  Priority\n",
       "2                                  data received sftp         1\n",
       "3                            sftp client installation         3\n",
       "4                 require dataprep sftp bluedart site         3\n",
       "7                                    ftp server issue         1\n",
       "29     live site code file access winscp giving error         3\n",
       "36  hello – currently experiencing issue attemptin...         1\n",
       "38                              client ftp connecting         1\n",
       "39                            bank data received sftp         1\n",
       "45                           cyberduck ftp connecting         1\n",
       "49                                   mad ftp conneted         1"
      ]
     },
     "execution_count": 18,
     "metadata": {},
     "output_type": "execute_result"
    }
   ],
   "source": [
    "df_dropped.head(10)"
   ]
  },
  {
   "cell_type": "code",
   "execution_count": 19,
   "id": "8ac2c175",
   "metadata": {},
   "outputs": [
    {
     "data": {
      "text/plain": [
       "array([1, 3, 0, 2])"
      ]
     },
     "execution_count": 19,
     "metadata": {},
     "output_type": "execute_result"
    }
   ],
   "source": [
    "df_dropped['Priority'].unique()"
   ]
  },
  {
   "cell_type": "code",
   "execution_count": 20,
   "id": "7002c8b3",
   "metadata": {},
   "outputs": [
    {
     "data": {
      "text/plain": [
       "1    827\n",
       "3    812\n",
       "2    788\n",
       "0    113\n",
       "Name: Priority, dtype: int64"
      ]
     },
     "execution_count": 20,
     "metadata": {},
     "output_type": "execute_result"
    }
   ],
   "source": [
    "df_dropped['Priority'].value_counts()"
   ]
  },
  {
   "cell_type": "code",
   "execution_count": 21,
   "id": "f9975956",
   "metadata": {},
   "outputs": [
    {
     "data": {
      "text/html": [
       "<div>\n",
       "<style scoped>\n",
       "    .dataframe tbody tr th:only-of-type {\n",
       "        vertical-align: middle;\n",
       "    }\n",
       "\n",
       "    .dataframe tbody tr th {\n",
       "        vertical-align: top;\n",
       "    }\n",
       "\n",
       "    .dataframe thead th {\n",
       "        text-align: right;\n",
       "    }\n",
       "</style>\n",
       "<table border=\"1\" class=\"dataframe\">\n",
       "  <thead>\n",
       "    <tr style=\"text-align: right;\">\n",
       "      <th></th>\n",
       "      <th>Subject</th>\n",
       "      <th>Priority</th>\n",
       "    </tr>\n",
       "  </thead>\n",
       "  <tbody>\n",
       "    <tr>\n",
       "      <th>2</th>\n",
       "      <td>data received sftp</td>\n",
       "      <td>1</td>\n",
       "    </tr>\n",
       "    <tr>\n",
       "      <th>3</th>\n",
       "      <td>sftp client installation</td>\n",
       "      <td>3</td>\n",
       "    </tr>\n",
       "    <tr>\n",
       "      <th>4</th>\n",
       "      <td>require dataprep sftp bluedart site</td>\n",
       "      <td>3</td>\n",
       "    </tr>\n",
       "    <tr>\n",
       "      <th>7</th>\n",
       "      <td>ftp server issue</td>\n",
       "      <td>1</td>\n",
       "    </tr>\n",
       "    <tr>\n",
       "      <th>29</th>\n",
       "      <td>live site code file access winscp giving error</td>\n",
       "      <td>3</td>\n",
       "    </tr>\n",
       "  </tbody>\n",
       "</table>\n",
       "</div>"
      ],
      "text/plain": [
       "                                           Subject  Priority\n",
       "2                               data received sftp         1\n",
       "3                         sftp client installation         3\n",
       "4              require dataprep sftp bluedart site         3\n",
       "7                                 ftp server issue         1\n",
       "29  live site code file access winscp giving error         3"
      ]
     },
     "execution_count": 21,
     "metadata": {},
     "output_type": "execute_result"
    }
   ],
   "source": [
    "df_dropped.head()"
   ]
  },
  {
   "cell_type": "code",
   "execution_count": 22,
   "id": "d9d81222",
   "metadata": {},
   "outputs": [],
   "source": [
    "X_train, X_test, y_train, y_test = train_test_split(df_dropped['Subject'], df_dropped['Priority'], test_size=0.2, random_state=42)"
   ]
  },
  {
   "cell_type": "code",
   "execution_count": 23,
   "id": "1c4e1a30",
   "metadata": {},
   "outputs": [],
   "source": [
    "from sklearn.feature_extraction.text import CountVectorizer"
   ]
  },
  {
   "cell_type": "code",
   "execution_count": 24,
   "id": "542a3b3a",
   "metadata": {},
   "outputs": [],
   "source": [
    "vectorizer = CountVectorizer()\n",
    "X_train = vectorizer.fit_transform(X_train)\n",
    "X_test = vectorizer.transform(X_test)"
   ]
  },
  {
   "cell_type": "code",
   "execution_count": 25,
   "id": "2898a4e4",
   "metadata": {},
   "outputs": [],
   "source": [
    "from sklearn.linear_model import LogisticRegression"
   ]
  },
  {
   "cell_type": "code",
   "execution_count": 85,
   "id": "4c70cd2f",
   "metadata": {},
   "outputs": [
    {
     "name": "stdout",
     "output_type": "stream",
     "text": [
      "Accuracy: 73.22834645669292\n"
     ]
    }
   ],
   "source": [
    "model = LogisticRegression()\n",
    "model.fit(X_train, y_train)\n",
    "\n",
    "predictions = model.predict(X_test)\n",
    "\n",
    "accuracy = model.score(X_test, y_test)\n",
    "print(\"Accuracy:\", accuracy*100)"
   ]
  },
  {
   "cell_type": "code",
   "execution_count": 83,
   "id": "0c5b72cb",
   "metadata": {},
   "outputs": [
    {
     "data": {
      "text/plain": [
       "69.88188976377953"
      ]
     },
     "execution_count": 83,
     "metadata": {},
     "output_type": "execute_result"
    }
   ],
   "source": [
    "from sklearn.ensemble import RandomForestClassifier\n",
    "from sklearn.metrics import accuracy_score\n",
    "rf_classifier = RandomForestClassifier()\n",
    "\n",
    "rf_classifier.fit(X_train, y_train)\n",
    "\n",
    "y_pred = rf_classifier.predict(X_test)\n",
    "\n",
    "accuracy = accuracy_score(y_test, y_pred)\n",
    "accuracy*100"
   ]
  },
  {
   "cell_type": "code",
   "execution_count": 81,
   "id": "d3beb063",
   "metadata": {},
   "outputs": [
    {
     "name": "stdout",
     "output_type": "stream",
     "text": [
      "MY WFH LAPTOP SLOW PROCESSING AND HANGING WHILE MULTI-TASKING, WITH BASIC APPLICATION\n",
      "wfh laptop slow processing hanging multitasking basic application\n",
      "Low\n",
      "[2]\n"
     ]
    }
   ],
   "source": [
    "s=input()\n",
    "s=preprocess(s)\n",
    "print(s)\n",
    "s=vectorizer.transform([s])\n",
    "# Make predictions\n",
    "predictions = model.predict(s)\n",
    "if predictions==[1]:\n",
    "    print('High')\n",
    "elif predictions==[2]:\n",
    "    print('Low')\n",
    "elif predictions==[0]:\n",
    "    print('Critical')\n",
    "else:\n",
    "    print('Medium')\n",
    "print(predictions)"
   ]
  },
  {
   "cell_type": "code",
   "execution_count": 105,
   "id": "69b812e0",
   "metadata": {},
   "outputs": [
    {
     "name": "stdout",
     "output_type": "stream",
     "text": [
      "Develop front-end code for website\n",
      "develop frontend code website\n",
      "High\n",
      "[1]\n"
     ]
    }
   ],
   "source": [
    "s=input()\n",
    "s=preprocess(s)\n",
    "print(s)\n",
    "s=vectorizer.transform([s])\n",
    "# Make predictions\n",
    "predictions = rf_classifier.predict(s)\n",
    "if predictions==[1]:\n",
    "    print('High')\n",
    "elif predictions==[2]:\n",
    "    print('Low')\n",
    "elif predictions==[0]:\n",
    "    print('Critical')\n",
    "else:\n",
    "    print('Medium')\n",
    "print(predictions)"
   ]
  },
  {
   "cell_type": "code",
   "execution_count": 99,
   "id": "a096e9fc",
   "metadata": {},
   "outputs": [
    {
     "data": {
      "text/html": [
       "<div>\n",
       "<style scoped>\n",
       "    .dataframe tbody tr th:only-of-type {\n",
       "        vertical-align: middle;\n",
       "    }\n",
       "\n",
       "    .dataframe tbody tr th {\n",
       "        vertical-align: top;\n",
       "    }\n",
       "\n",
       "    .dataframe thead th {\n",
       "        text-align: right;\n",
       "    }\n",
       "</style>\n",
       "<table border=\"1\" class=\"dataframe\">\n",
       "  <thead>\n",
       "    <tr style=\"text-align: right;\">\n",
       "      <th></th>\n",
       "      <th>Unnamed: 0</th>\n",
       "      <th>Sl.No</th>\n",
       "      <th>RefNumber</th>\n",
       "      <th>Name</th>\n",
       "      <th>Subject</th>\n",
       "      <th>Priority</th>\n",
       "      <th>AssaignedName</th>\n",
       "      <th>EntryDate</th>\n",
       "      <th>eng_exit_date</th>\n",
       "      <th>restotal</th>\n",
       "      <th>...</th>\n",
       "      <th>Total</th>\n",
       "      <th>AssignDate</th>\n",
       "      <th>COMPLAINT CATEGORY</th>\n",
       "      <th>COMPLAINT REQUEST CATEGORY</th>\n",
       "      <th>COMPLAINT REQUEST TYPE</th>\n",
       "      <th>COMPLAINT DETAILS</th>\n",
       "      <th>CUSTOMER IMPACT</th>\n",
       "      <th>Message</th>\n",
       "      <th>Solution</th>\n",
       "      <th>Ratings</th>\n",
       "    </tr>\n",
       "  </thead>\n",
       "  <tbody>\n",
       "    <tr>\n",
       "      <th>0</th>\n",
       "      <td>0</td>\n",
       "      <td>37</td>\n",
       "      <td>25152</td>\n",
       "      <td>Shashanka P</td>\n",
       "      <td>Not able to receive the files through Pinmaile...</td>\n",
       "      <td>Low</td>\n",
       "      <td>Jackson Dale Bangera</td>\n",
       "      <td>2020-07-01 15:18:40.223</td>\n",
       "      <td>2020-07-02 17:43:32.403</td>\n",
       "      <td>1 Days 2 hrs 25 mins</td>\n",
       "      <td>...</td>\n",
       "      <td>3 Days 2 hrs 26 mins</td>\n",
       "      <td>2020-07-01 15:34:30.497</td>\n",
       "      <td>IT</td>\n",
       "      <td>Incident</td>\n",
       "      <td>Network Issues</td>\n",
       "      <td>Share folder issues</td>\n",
       "      <td>no</td>\n",
       "      <td>Not able to receive the files through Pinmaile...</td>\n",
       "      <td>Please follow below steps.\\n1. Download SSHLic...</td>\n",
       "      <td>NaN</td>\n",
       "    </tr>\n",
       "    <tr>\n",
       "      <th>1</th>\n",
       "      <td>1</td>\n",
       "      <td>58</td>\n",
       "      <td>25175</td>\n",
       "      <td>Umesha</td>\n",
       "      <td>FTP setup in mac system</td>\n",
       "      <td>Low</td>\n",
       "      <td>Poornesh Kumar</td>\n",
       "      <td>2020-07-02 14:49:29.920</td>\n",
       "      <td>2020-07-02 15:16:43.657</td>\n",
       "      <td>0 Days 1 hrs 27 mins</td>\n",
       "      <td>...</td>\n",
       "      <td>2 Days 1 hrs 27 mins</td>\n",
       "      <td>2020-07-02 14:51:33.307</td>\n",
       "      <td>IT</td>\n",
       "      <td>Incident</td>\n",
       "      <td>Others</td>\n",
       "      <td>Others</td>\n",
       "      <td>no</td>\n",
       "      <td>FTP setup in mac system.</td>\n",
       "      <td>From the Apple menu, select System Preferences...</td>\n",
       "      <td>NaN</td>\n",
       "    </tr>\n",
       "    <tr>\n",
       "      <th>2</th>\n",
       "      <td>2</td>\n",
       "      <td>81</td>\n",
       "      <td>25199</td>\n",
       "      <td>Shashanka P</td>\n",
       "      <td>Data not received through SFTP</td>\n",
       "      <td>High</td>\n",
       "      <td>Jeevandas</td>\n",
       "      <td>2020-07-03 10:40:24.793</td>\n",
       "      <td>2020-07-03 12:03:10.467</td>\n",
       "      <td>0 Days 2 hrs 23 mins</td>\n",
       "      <td>...</td>\n",
       "      <td>2 Days 2 hrs 23 mins</td>\n",
       "      <td>2020-07-03 10:49:35.453</td>\n",
       "      <td>IT</td>\n",
       "      <td>Incident</td>\n",
       "      <td>Network Issues</td>\n",
       "      <td>Network Connection Issue</td>\n",
       "      <td>no</td>\n",
       "      <td>Dear Sir,    Data not received through SFTP at...</td>\n",
       "      <td>Please follow below steps.\\n1. Download SSHLic...</td>\n",
       "      <td>NaN</td>\n",
       "    </tr>\n",
       "    <tr>\n",
       "      <th>3</th>\n",
       "      <td>3</td>\n",
       "      <td>224</td>\n",
       "      <td>25374</td>\n",
       "      <td>Reshma Bhat</td>\n",
       "      <td>Sftp Client installation</td>\n",
       "      <td>Medium</td>\n",
       "      <td>Sowmya P</td>\n",
       "      <td>2020-07-10 11:36:51.890</td>\n",
       "      <td>2020-07-10 14:45:04.467</td>\n",
       "      <td>0 Days 3 hrs 9 mins</td>\n",
       "      <td>...</td>\n",
       "      <td>1 Days 4 hrs 42 mins</td>\n",
       "      <td>2020-07-10 11:38:38.903</td>\n",
       "      <td>IT</td>\n",
       "      <td>Service</td>\n",
       "      <td>Site access</td>\n",
       "      <td>NaN</td>\n",
       "      <td>no</td>\n",
       "      <td>Need to install SFTP client to access MCT Prep...</td>\n",
       "      <td>Follow the link given https://www.webservertal...</td>\n",
       "      <td>4.0</td>\n",
       "    </tr>\n",
       "    <tr>\n",
       "      <th>4</th>\n",
       "      <td>4</td>\n",
       "      <td>593</td>\n",
       "      <td>25904</td>\n",
       "      <td>Reshma Bhat</td>\n",
       "      <td>Require Dataprep SFTP and Bluedart site</td>\n",
       "      <td>Medium</td>\n",
       "      <td>Sudarshan Mallya</td>\n",
       "      <td>2020-07-29 14:08:58.907</td>\n",
       "      <td>2020-07-30 12:24:53.467</td>\n",
       "      <td>1 Days 22 hrs 16 mins</td>\n",
       "      <td>...</td>\n",
       "      <td>1 Days 22 hrs 17 mins</td>\n",
       "      <td>2020-07-29 14:09:12.693</td>\n",
       "      <td>IT</td>\n",
       "      <td>Service</td>\n",
       "      <td>Site access</td>\n",
       "      <td>NaN</td>\n",
       "      <td>no</td>\n",
       "      <td>Blue dart Site is not accessing.  Require Data...</td>\n",
       "      <td>You can create a SFTP connection through the T...</td>\n",
       "      <td>5.0</td>\n",
       "    </tr>\n",
       "  </tbody>\n",
       "</table>\n",
       "<p>5 rows × 27 columns</p>\n",
       "</div>"
      ],
      "text/plain": [
       "   Unnamed: 0  Sl.No  RefNumber         Name  \\\n",
       "0           0     37      25152  Shashanka P   \n",
       "1           1     58      25175       Umesha   \n",
       "2           2     81      25199  Shashanka P   \n",
       "3           3    224      25374  Reshma Bhat   \n",
       "4           4    593      25904  Reshma Bhat   \n",
       "\n",
       "                                             Subject Priority  \\\n",
       "0  Not able to receive the files through Pinmaile...      Low   \n",
       "1                            FTP setup in mac system      Low   \n",
       "2                     Data not received through SFTP     High   \n",
       "3                           Sftp Client installation   Medium   \n",
       "4            Require Dataprep SFTP and Bluedart site   Medium   \n",
       "\n",
       "          AssaignedName                EntryDate            eng_exit_date  \\\n",
       "0  Jackson Dale Bangera  2020-07-01 15:18:40.223  2020-07-02 17:43:32.403   \n",
       "1        Poornesh Kumar  2020-07-02 14:49:29.920  2020-07-02 15:16:43.657   \n",
       "2            Jeevandas   2020-07-03 10:40:24.793  2020-07-03 12:03:10.467   \n",
       "3              Sowmya P  2020-07-10 11:36:51.890  2020-07-10 14:45:04.467   \n",
       "4      Sudarshan Mallya  2020-07-29 14:08:58.907  2020-07-30 12:24:53.467   \n",
       "\n",
       "                 restotal  ...                   Total  \\\n",
       "0   1 Days 2 hrs 25 mins   ...   3 Days 2 hrs 26 mins    \n",
       "1   0 Days 1 hrs 27 mins   ...   2 Days 1 hrs 27 mins    \n",
       "2   0 Days 2 hrs 23 mins   ...   2 Days 2 hrs 23 mins    \n",
       "3    0 Days 3 hrs 9 mins   ...   1 Days 4 hrs 42 mins    \n",
       "4  1 Days 22 hrs 16 mins   ...  1 Days 22 hrs 17 mins    \n",
       "\n",
       "                AssignDate COMPLAINT CATEGORY COMPLAINT REQUEST CATEGORY  \\\n",
       "0  2020-07-01 15:34:30.497                 IT                   Incident   \n",
       "1  2020-07-02 14:51:33.307                 IT                   Incident   \n",
       "2  2020-07-03 10:49:35.453                 IT                   Incident   \n",
       "3  2020-07-10 11:38:38.903                 IT                    Service   \n",
       "4  2020-07-29 14:09:12.693                 IT                    Service   \n",
       "\n",
       "  COMPLAINT REQUEST TYPE         COMPLAINT DETAILS CUSTOMER IMPACT  \\\n",
       "0         Network Issues       Share folder issues              no   \n",
       "1                 Others                    Others              no   \n",
       "2         Network Issues  Network Connection Issue              no   \n",
       "3            Site access                       NaN              no   \n",
       "4            Site access                       NaN              no   \n",
       "\n",
       "                                             Message  \\\n",
       "0  Not able to receive the files through Pinmaile...   \n",
       "1                           FTP setup in mac system.   \n",
       "2  Dear Sir,    Data not received through SFTP at...   \n",
       "3  Need to install SFTP client to access MCT Prep...   \n",
       "4  Blue dart Site is not accessing.  Require Data...   \n",
       "\n",
       "                                            Solution Ratings  \n",
       "0  Please follow below steps.\\n1. Download SSHLic...     NaN  \n",
       "1  From the Apple menu, select System Preferences...     NaN  \n",
       "2  Please follow below steps.\\n1. Download SSHLic...     NaN  \n",
       "3  Follow the link given https://www.webservertal...     4.0  \n",
       "4  You can create a SFTP connection through the T...     5.0  \n",
       "\n",
       "[5 rows x 27 columns]"
      ]
     },
     "execution_count": 99,
     "metadata": {},
     "output_type": "execute_result"
    }
   ],
   "source": [
    "df1=pd.read_excel('df_withoutdup_final_origi.xlsx')\n",
    "df1.head()"
   ]
  },
  {
   "cell_type": "code",
   "execution_count": 103,
   "id": "143528a6",
   "metadata": {},
   "outputs": [
    {
     "data": {
      "text/plain": [
       "Others                         3770\n",
       "Software Issues                1062\n",
       "System/Laptop Issue            1026\n",
       "Network Issues                  663\n",
       "Outlook/Mail issue              607\n",
       "Printer Issue                   322\n",
       "Share folder access              79\n",
       "Site access                      78\n",
       "VPN Installation                 65\n",
       "SAP Installation                 30\n",
       "Zoom Installtion                 19\n",
       "Updating Saral TDS software      18\n",
       "Need Anydesk                     14\n",
       "CD request                       11\n",
       "Colour Print request              9\n",
       "Tally Software Installation       8\n",
       "Skype Installation                6\n",
       "Video download                    1\n",
       "Name: COMPLAINT REQUEST TYPE, dtype: int64"
      ]
     },
     "execution_count": 103,
     "metadata": {},
     "output_type": "execute_result"
    }
   ],
   "source": [
    "df1['COMPLAINT REQUEST TYPE'].value_counts()"
   ]
  },
  {
   "cell_type": "code",
   "execution_count": null,
   "id": "f167d7ee",
   "metadata": {},
   "outputs": [],
   "source": []
  }
 ],
 "metadata": {
  "kernelspec": {
   "display_name": "Python 3 (ipykernel)",
   "language": "python",
   "name": "python3"
  },
  "language_info": {
   "codemirror_mode": {
    "name": "ipython",
    "version": 3
   },
   "file_extension": ".py",
   "mimetype": "text/x-python",
   "name": "python",
   "nbconvert_exporter": "python",
   "pygments_lexer": "ipython3",
   "version": "3.9.7"
  }
 },
 "nbformat": 4,
 "nbformat_minor": 5
}
